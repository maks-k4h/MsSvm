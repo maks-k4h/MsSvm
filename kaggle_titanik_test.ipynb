{
 "cells": [
  {
   "cell_type": "code",
   "execution_count": 1,
   "metadata": {
    "collapsed": true
   },
   "outputs": [],
   "source": [
    "import statistics\n",
    "\n",
    "import numpy as np\n",
    "import pandas as pd"
   ]
  },
  {
   "cell_type": "code",
   "execution_count": 2,
   "outputs": [],
   "source": [
    "raw_train_df = pd.read_csv('titanic/train.csv')"
   ],
   "metadata": {
    "collapsed": false
   }
  },
  {
   "cell_type": "markdown",
   "source": [
    "### data wrangling"
   ],
   "metadata": {
    "collapsed": false
   }
  },
  {
   "cell_type": "code",
   "execution_count": 3,
   "outputs": [
    {
     "data": {
      "text/plain": "   PassengerId  Survived  Pclass  \\\n0            1         0       3   \n1            2         1       1   \n2            3         1       3   \n3            4         1       1   \n4            5         0       3   \n\n                                                Name     Sex   Age  SibSp  \\\n0                            Braund, Mr. Owen Harris    male  22.0      1   \n1  Cumings, Mrs. John Bradley (Florence Briggs Th...  female  38.0      1   \n2                             Heikkinen, Miss. Laina  female  26.0      0   \n3       Futrelle, Mrs. Jacques Heath (Lily May Peel)  female  35.0      1   \n4                           Allen, Mr. William Henry    male  35.0      0   \n\n   Parch            Ticket     Fare Cabin Embarked  \n0      0         A/5 21171   7.2500   NaN        S  \n1      0          PC 17599  71.2833   C85        C  \n2      0  STON/O2. 3101282   7.9250   NaN        S  \n3      0            113803  53.1000  C123        S  \n4      0            373450   8.0500   NaN        S  ",
      "text/html": "<div>\n<style scoped>\n    .dataframe tbody tr th:only-of-type {\n        vertical-align: middle;\n    }\n\n    .dataframe tbody tr th {\n        vertical-align: top;\n    }\n\n    .dataframe thead th {\n        text-align: right;\n    }\n</style>\n<table border=\"1\" class=\"dataframe\">\n  <thead>\n    <tr style=\"text-align: right;\">\n      <th></th>\n      <th>PassengerId</th>\n      <th>Survived</th>\n      <th>Pclass</th>\n      <th>Name</th>\n      <th>Sex</th>\n      <th>Age</th>\n      <th>SibSp</th>\n      <th>Parch</th>\n      <th>Ticket</th>\n      <th>Fare</th>\n      <th>Cabin</th>\n      <th>Embarked</th>\n    </tr>\n  </thead>\n  <tbody>\n    <tr>\n      <th>0</th>\n      <td>1</td>\n      <td>0</td>\n      <td>3</td>\n      <td>Braund, Mr. Owen Harris</td>\n      <td>male</td>\n      <td>22.0</td>\n      <td>1</td>\n      <td>0</td>\n      <td>A/5 21171</td>\n      <td>7.2500</td>\n      <td>NaN</td>\n      <td>S</td>\n    </tr>\n    <tr>\n      <th>1</th>\n      <td>2</td>\n      <td>1</td>\n      <td>1</td>\n      <td>Cumings, Mrs. John Bradley (Florence Briggs Th...</td>\n      <td>female</td>\n      <td>38.0</td>\n      <td>1</td>\n      <td>0</td>\n      <td>PC 17599</td>\n      <td>71.2833</td>\n      <td>C85</td>\n      <td>C</td>\n    </tr>\n    <tr>\n      <th>2</th>\n      <td>3</td>\n      <td>1</td>\n      <td>3</td>\n      <td>Heikkinen, Miss. Laina</td>\n      <td>female</td>\n      <td>26.0</td>\n      <td>0</td>\n      <td>0</td>\n      <td>STON/O2. 3101282</td>\n      <td>7.9250</td>\n      <td>NaN</td>\n      <td>S</td>\n    </tr>\n    <tr>\n      <th>3</th>\n      <td>4</td>\n      <td>1</td>\n      <td>1</td>\n      <td>Futrelle, Mrs. Jacques Heath (Lily May Peel)</td>\n      <td>female</td>\n      <td>35.0</td>\n      <td>1</td>\n      <td>0</td>\n      <td>113803</td>\n      <td>53.1000</td>\n      <td>C123</td>\n      <td>S</td>\n    </tr>\n    <tr>\n      <th>4</th>\n      <td>5</td>\n      <td>0</td>\n      <td>3</td>\n      <td>Allen, Mr. William Henry</td>\n      <td>male</td>\n      <td>35.0</td>\n      <td>0</td>\n      <td>0</td>\n      <td>373450</td>\n      <td>8.0500</td>\n      <td>NaN</td>\n      <td>S</td>\n    </tr>\n  </tbody>\n</table>\n</div>"
     },
     "execution_count": 3,
     "metadata": {},
     "output_type": "execute_result"
    }
   ],
   "source": [
    "raw_train_df.head()"
   ],
   "metadata": {
    "collapsed": false
   }
  },
  {
   "cell_type": "code",
   "execution_count": 4,
   "outputs": [
    {
     "data": {
      "text/plain": "PassengerId      int64\nSurvived         int64\nPclass           int64\nName            object\nSex             object\nAge            float64\nSibSp            int64\nParch            int64\nTicket          object\nFare           float64\nCabin           object\nEmbarked        object\ndtype: object"
     },
     "execution_count": 4,
     "metadata": {},
     "output_type": "execute_result"
    }
   ],
   "source": [
    "raw_train_df.dtypes"
   ],
   "metadata": {
    "collapsed": false
   }
  },
  {
   "cell_type": "code",
   "execution_count": 5,
   "outputs": [],
   "source": [
    "raw_train_df.drop(['Name'], axis=1, inplace=True)"
   ],
   "metadata": {
    "collapsed": false
   }
  },
  {
   "cell_type": "code",
   "execution_count": 6,
   "outputs": [
    {
     "data": {
      "text/plain": "   PassengerId  Survived  Pclass     Sex   Age  SibSp  Parch  \\\n0            1         0       3    male  22.0      1      0   \n1            2         1       1  female  38.0      1      0   \n2            3         1       3  female  26.0      0      0   \n3            4         1       1  female  35.0      1      0   \n4            5         0       3    male  35.0      0      0   \n\n             Ticket     Fare Cabin Embarked  \n0         A/5 21171   7.2500   NaN        S  \n1          PC 17599  71.2833   C85        C  \n2  STON/O2. 3101282   7.9250   NaN        S  \n3            113803  53.1000  C123        S  \n4            373450   8.0500   NaN        S  ",
      "text/html": "<div>\n<style scoped>\n    .dataframe tbody tr th:only-of-type {\n        vertical-align: middle;\n    }\n\n    .dataframe tbody tr th {\n        vertical-align: top;\n    }\n\n    .dataframe thead th {\n        text-align: right;\n    }\n</style>\n<table border=\"1\" class=\"dataframe\">\n  <thead>\n    <tr style=\"text-align: right;\">\n      <th></th>\n      <th>PassengerId</th>\n      <th>Survived</th>\n      <th>Pclass</th>\n      <th>Sex</th>\n      <th>Age</th>\n      <th>SibSp</th>\n      <th>Parch</th>\n      <th>Ticket</th>\n      <th>Fare</th>\n      <th>Cabin</th>\n      <th>Embarked</th>\n    </tr>\n  </thead>\n  <tbody>\n    <tr>\n      <th>0</th>\n      <td>1</td>\n      <td>0</td>\n      <td>3</td>\n      <td>male</td>\n      <td>22.0</td>\n      <td>1</td>\n      <td>0</td>\n      <td>A/5 21171</td>\n      <td>7.2500</td>\n      <td>NaN</td>\n      <td>S</td>\n    </tr>\n    <tr>\n      <th>1</th>\n      <td>2</td>\n      <td>1</td>\n      <td>1</td>\n      <td>female</td>\n      <td>38.0</td>\n      <td>1</td>\n      <td>0</td>\n      <td>PC 17599</td>\n      <td>71.2833</td>\n      <td>C85</td>\n      <td>C</td>\n    </tr>\n    <tr>\n      <th>2</th>\n      <td>3</td>\n      <td>1</td>\n      <td>3</td>\n      <td>female</td>\n      <td>26.0</td>\n      <td>0</td>\n      <td>0</td>\n      <td>STON/O2. 3101282</td>\n      <td>7.9250</td>\n      <td>NaN</td>\n      <td>S</td>\n    </tr>\n    <tr>\n      <th>3</th>\n      <td>4</td>\n      <td>1</td>\n      <td>1</td>\n      <td>female</td>\n      <td>35.0</td>\n      <td>1</td>\n      <td>0</td>\n      <td>113803</td>\n      <td>53.1000</td>\n      <td>C123</td>\n      <td>S</td>\n    </tr>\n    <tr>\n      <th>4</th>\n      <td>5</td>\n      <td>0</td>\n      <td>3</td>\n      <td>male</td>\n      <td>35.0</td>\n      <td>0</td>\n      <td>0</td>\n      <td>373450</td>\n      <td>8.0500</td>\n      <td>NaN</td>\n      <td>S</td>\n    </tr>\n  </tbody>\n</table>\n</div>"
     },
     "execution_count": 6,
     "metadata": {},
     "output_type": "execute_result"
    }
   ],
   "source": [
    "raw_train_df.head()"
   ],
   "metadata": {
    "collapsed": false
   }
  },
  {
   "cell_type": "code",
   "execution_count": 7,
   "outputs": [
    {
     "data": {
      "text/plain": "array(['male', 'female'], dtype=object)"
     },
     "execution_count": 7,
     "metadata": {},
     "output_type": "execute_result"
    }
   ],
   "source": [
    "raw_train_df['Sex'].unique()"
   ],
   "metadata": {
    "collapsed": false
   }
  },
  {
   "cell_type": "code",
   "execution_count": 8,
   "outputs": [],
   "source": [
    "raw_train_df['Sex'].replace(['male', 'female'], [0, 1], inplace=True)"
   ],
   "metadata": {
    "collapsed": false
   }
  },
  {
   "cell_type": "code",
   "execution_count": 9,
   "outputs": [
    {
     "data": {
      "text/plain": "   PassengerId  Survived  Pclass  Sex   Age  SibSp  Parch            Ticket  \\\n0            1         0       3    0  22.0      1      0         A/5 21171   \n1            2         1       1    1  38.0      1      0          PC 17599   \n2            3         1       3    1  26.0      0      0  STON/O2. 3101282   \n3            4         1       1    1  35.0      1      0            113803   \n4            5         0       3    0  35.0      0      0            373450   \n\n      Fare Cabin Embarked  \n0   7.2500   NaN        S  \n1  71.2833   C85        C  \n2   7.9250   NaN        S  \n3  53.1000  C123        S  \n4   8.0500   NaN        S  ",
      "text/html": "<div>\n<style scoped>\n    .dataframe tbody tr th:only-of-type {\n        vertical-align: middle;\n    }\n\n    .dataframe tbody tr th {\n        vertical-align: top;\n    }\n\n    .dataframe thead th {\n        text-align: right;\n    }\n</style>\n<table border=\"1\" class=\"dataframe\">\n  <thead>\n    <tr style=\"text-align: right;\">\n      <th></th>\n      <th>PassengerId</th>\n      <th>Survived</th>\n      <th>Pclass</th>\n      <th>Sex</th>\n      <th>Age</th>\n      <th>SibSp</th>\n      <th>Parch</th>\n      <th>Ticket</th>\n      <th>Fare</th>\n      <th>Cabin</th>\n      <th>Embarked</th>\n    </tr>\n  </thead>\n  <tbody>\n    <tr>\n      <th>0</th>\n      <td>1</td>\n      <td>0</td>\n      <td>3</td>\n      <td>0</td>\n      <td>22.0</td>\n      <td>1</td>\n      <td>0</td>\n      <td>A/5 21171</td>\n      <td>7.2500</td>\n      <td>NaN</td>\n      <td>S</td>\n    </tr>\n    <tr>\n      <th>1</th>\n      <td>2</td>\n      <td>1</td>\n      <td>1</td>\n      <td>1</td>\n      <td>38.0</td>\n      <td>1</td>\n      <td>0</td>\n      <td>PC 17599</td>\n      <td>71.2833</td>\n      <td>C85</td>\n      <td>C</td>\n    </tr>\n    <tr>\n      <th>2</th>\n      <td>3</td>\n      <td>1</td>\n      <td>3</td>\n      <td>1</td>\n      <td>26.0</td>\n      <td>0</td>\n      <td>0</td>\n      <td>STON/O2. 3101282</td>\n      <td>7.9250</td>\n      <td>NaN</td>\n      <td>S</td>\n    </tr>\n    <tr>\n      <th>3</th>\n      <td>4</td>\n      <td>1</td>\n      <td>1</td>\n      <td>1</td>\n      <td>35.0</td>\n      <td>1</td>\n      <td>0</td>\n      <td>113803</td>\n      <td>53.1000</td>\n      <td>C123</td>\n      <td>S</td>\n    </tr>\n    <tr>\n      <th>4</th>\n      <td>5</td>\n      <td>0</td>\n      <td>3</td>\n      <td>0</td>\n      <td>35.0</td>\n      <td>0</td>\n      <td>0</td>\n      <td>373450</td>\n      <td>8.0500</td>\n      <td>NaN</td>\n      <td>S</td>\n    </tr>\n  </tbody>\n</table>\n</div>"
     },
     "execution_count": 9,
     "metadata": {},
     "output_type": "execute_result"
    }
   ],
   "source": [
    "raw_train_df.head()"
   ],
   "metadata": {
    "collapsed": false
   }
  },
  {
   "cell_type": "code",
   "execution_count": 10,
   "outputs": [
    {
     "data": {
      "text/plain": "array(['S', 'C', 'Q', nan], dtype=object)"
     },
     "execution_count": 10,
     "metadata": {},
     "output_type": "execute_result"
    }
   ],
   "source": [
    "raw_train_df['Embarked'].unique()"
   ],
   "metadata": {
    "collapsed": false
   }
  },
  {
   "cell_type": "code",
   "execution_count": 11,
   "outputs": [],
   "source": [
    "raw_train_df['Embarked'] = pd.factorize(raw_train_df['Embarked'])[0]"
   ],
   "metadata": {
    "collapsed": false
   }
  },
  {
   "cell_type": "code",
   "execution_count": 12,
   "outputs": [],
   "source": [
    "raw_train_df.drop(['PassengerId', 'Cabin', 'Ticket'], axis=1, inplace=True)"
   ],
   "metadata": {
    "collapsed": false
   }
  },
  {
   "cell_type": "code",
   "execution_count": 13,
   "outputs": [],
   "source": [
    "raw_train_df['Survived'].replace(0, -1, inplace=True)"
   ],
   "metadata": {
    "collapsed": false
   }
  },
  {
   "cell_type": "code",
   "execution_count": 14,
   "outputs": [],
   "source": [
    "age_mean = raw_train_df['Age'].mean()\n",
    "raw_train_df['Age'].replace(np.nan, age_mean, inplace=True)"
   ],
   "metadata": {
    "collapsed": false
   }
  },
  {
   "cell_type": "code",
   "execution_count": 15,
   "outputs": [
    {
     "data": {
      "text/plain": "   Survived  Pclass  Sex        Age  SibSp  Parch     Fare  Embarked\n0        -1       3    0  22.000000      1      0   7.2500         0\n1         1       1    1  38.000000      1      0  71.2833         1\n2         1       3    1  26.000000      0      0   7.9250         0\n3         1       1    1  35.000000      1      0  53.1000         0\n4        -1       3    0  35.000000      0      0   8.0500         0\n5        -1       3    0  29.699118      0      0   8.4583         2\n6        -1       1    0  54.000000      0      0  51.8625         0\n7        -1       3    0   2.000000      3      1  21.0750         0\n8         1       3    1  27.000000      0      2  11.1333         0\n9         1       2    1  14.000000      1      0  30.0708         1",
      "text/html": "<div>\n<style scoped>\n    .dataframe tbody tr th:only-of-type {\n        vertical-align: middle;\n    }\n\n    .dataframe tbody tr th {\n        vertical-align: top;\n    }\n\n    .dataframe thead th {\n        text-align: right;\n    }\n</style>\n<table border=\"1\" class=\"dataframe\">\n  <thead>\n    <tr style=\"text-align: right;\">\n      <th></th>\n      <th>Survived</th>\n      <th>Pclass</th>\n      <th>Sex</th>\n      <th>Age</th>\n      <th>SibSp</th>\n      <th>Parch</th>\n      <th>Fare</th>\n      <th>Embarked</th>\n    </tr>\n  </thead>\n  <tbody>\n    <tr>\n      <th>0</th>\n      <td>-1</td>\n      <td>3</td>\n      <td>0</td>\n      <td>22.000000</td>\n      <td>1</td>\n      <td>0</td>\n      <td>7.2500</td>\n      <td>0</td>\n    </tr>\n    <tr>\n      <th>1</th>\n      <td>1</td>\n      <td>1</td>\n      <td>1</td>\n      <td>38.000000</td>\n      <td>1</td>\n      <td>0</td>\n      <td>71.2833</td>\n      <td>1</td>\n    </tr>\n    <tr>\n      <th>2</th>\n      <td>1</td>\n      <td>3</td>\n      <td>1</td>\n      <td>26.000000</td>\n      <td>0</td>\n      <td>0</td>\n      <td>7.9250</td>\n      <td>0</td>\n    </tr>\n    <tr>\n      <th>3</th>\n      <td>1</td>\n      <td>1</td>\n      <td>1</td>\n      <td>35.000000</td>\n      <td>1</td>\n      <td>0</td>\n      <td>53.1000</td>\n      <td>0</td>\n    </tr>\n    <tr>\n      <th>4</th>\n      <td>-1</td>\n      <td>3</td>\n      <td>0</td>\n      <td>35.000000</td>\n      <td>0</td>\n      <td>0</td>\n      <td>8.0500</td>\n      <td>0</td>\n    </tr>\n    <tr>\n      <th>5</th>\n      <td>-1</td>\n      <td>3</td>\n      <td>0</td>\n      <td>29.699118</td>\n      <td>0</td>\n      <td>0</td>\n      <td>8.4583</td>\n      <td>2</td>\n    </tr>\n    <tr>\n      <th>6</th>\n      <td>-1</td>\n      <td>1</td>\n      <td>0</td>\n      <td>54.000000</td>\n      <td>0</td>\n      <td>0</td>\n      <td>51.8625</td>\n      <td>0</td>\n    </tr>\n    <tr>\n      <th>7</th>\n      <td>-1</td>\n      <td>3</td>\n      <td>0</td>\n      <td>2.000000</td>\n      <td>3</td>\n      <td>1</td>\n      <td>21.0750</td>\n      <td>0</td>\n    </tr>\n    <tr>\n      <th>8</th>\n      <td>1</td>\n      <td>3</td>\n      <td>1</td>\n      <td>27.000000</td>\n      <td>0</td>\n      <td>2</td>\n      <td>11.1333</td>\n      <td>0</td>\n    </tr>\n    <tr>\n      <th>9</th>\n      <td>1</td>\n      <td>2</td>\n      <td>1</td>\n      <td>14.000000</td>\n      <td>1</td>\n      <td>0</td>\n      <td>30.0708</td>\n      <td>1</td>\n    </tr>\n  </tbody>\n</table>\n</div>"
     },
     "execution_count": 15,
     "metadata": {},
     "output_type": "execute_result"
    }
   ],
   "source": [
    "raw_train_df.head(10)"
   ],
   "metadata": {
    "collapsed": false
   }
  },
  {
   "cell_type": "markdown",
   "source": [],
   "metadata": {
    "collapsed": false
   }
  },
  {
   "cell_type": "markdown",
   "source": [
    "### Converting the dataframe to numpy"
   ],
   "metadata": {
    "collapsed": false
   }
  },
  {
   "cell_type": "code",
   "execution_count": 16,
   "outputs": [],
   "source": [
    "input_matrix = raw_train_df.drop(['Survived'], axis=1).to_numpy()"
   ],
   "metadata": {
    "collapsed": false
   }
  },
  {
   "cell_type": "code",
   "execution_count": 17,
   "outputs": [],
   "source": [
    "labels_vector = raw_train_df['Survived'].to_numpy()\n",
    "labels_vector = labels_vector.reshape(labels_vector.shape + (1,))"
   ],
   "metadata": {
    "collapsed": false
   }
  },
  {
   "cell_type": "code",
   "execution_count": 18,
   "outputs": [],
   "source": [
    "data_train = np.append(input_matrix, labels_vector, axis=1)"
   ],
   "metadata": {
    "collapsed": false
   }
  },
  {
   "cell_type": "code",
   "execution_count": 19,
   "outputs": [
    {
     "data": {
      "text/plain": "array([[ 3.        ,  0.        , 22.        , ...,  7.25      ,\n         0.        , -1.        ],\n       [ 1.        ,  1.        , 38.        , ..., 71.2833    ,\n         1.        ,  1.        ],\n       [ 3.        ,  1.        , 26.        , ...,  7.925     ,\n         0.        ,  1.        ],\n       ...,\n       [ 3.        ,  1.        , 29.69911765, ..., 23.45      ,\n         0.        , -1.        ],\n       [ 1.        ,  0.        , 26.        , ..., 30.        ,\n         1.        ,  1.        ],\n       [ 3.        ,  0.        , 32.        , ...,  7.75      ,\n         2.        , -1.        ]])"
     },
     "execution_count": 19,
     "metadata": {},
     "output_type": "execute_result"
    }
   ],
   "source": [
    "data_train"
   ],
   "metadata": {
    "collapsed": false
   }
  },
  {
   "cell_type": "markdown",
   "source": [
    "### Hyper-parameter tuning"
   ],
   "metadata": {
    "collapsed": false
   }
  },
  {
   "cell_type": "code",
   "execution_count": 20,
   "outputs": [],
   "source": [
    "from sklearn.pipeline import Pipeline\n",
    "from sklearn.preprocessing import StandardScaler\n",
    "\n",
    "import ms_svm as mss\n",
    "from sklearn.model_selection import train_test_split\n",
    "from sklearn.metrics import accuracy_score"
   ],
   "metadata": {
    "collapsed": false
   }
  },
  {
   "cell_type": "code",
   "execution_count": 21,
   "outputs": [
    {
     "name": "stdout",
     "output_type": "stream",
     "text": [
      "Training the model with different hyper-parameters...\n",
      "Stage 1 | 5 Loss: [7232.98405731]\n",
      "Stage 2 | 5 Loss: [-298.03283271]\n",
      "Stage 3 | 5 Loss: [-387.27821858]\n",
      "Stage 4 | 5 Loss: [-452.76833298]\n",
      "Stage 5 | 5 Loss: [-461.25192658]\n",
      "Final Loss: [-461.95821532]\n",
      "Accuracy score for s=1 is 0.7937219730941704\n",
      "Stage 1 | 5 Loss: [15434.50312284]\n",
      "Stage 2 | 5 Loss: [-422.66863005]\n",
      "Stage 3 | 5 Loss: [-428.85551129]\n",
      "Stage 4 | 5 Loss: [-492.66337168]\n",
      "Stage 5 | 5 Loss: [-510.37096382]\n",
      "Final Loss: [-511.32100451]\n",
      "Accuracy score for s=2 is 0.8116591928251121\n",
      "Stage 1 | 5 Loss: [16217.9327367]\n",
      "Stage 2 | 5 Loss: [-452.87390853]\n",
      "Stage 3 | 5 Loss: [-541.66801679]\n",
      "Stage 4 | 5 Loss: [-554.25065492]\n",
      "Stage 5 | 5 Loss: [-571.3364539]\n",
      "Final Loss: [-572.43425471]\n",
      "Accuracy score for s=3 is 0.820627802690583\n",
      "Stage 1 | 5 Loss: [13684.9282593]\n",
      "Stage 2 | 5 Loss: [-445.56977294]\n",
      "Stage 3 | 5 Loss: [-605.77577846]\n",
      "Stage 4 | 5 Loss: [-641.40429161]\n",
      "Stage 5 | 5 Loss: [-640.08292178]\n",
      "Final Loss: [-643.07502555]\n",
      "Accuracy score for s=5 is 0.8565022421524664\n",
      "Stage 1 | 5 Loss: [15703.37561115]\n",
      "Stage 2 | 5 Loss: [-465.19416079]\n",
      "Stage 3 | 5 Loss: [-624.35605069]\n",
      "Stage 4 | 5 Loss: [-666.81715629]\n",
      "Stage 5 | 5 Loss: [-673.84477461]\n",
      "Final Loss: [-676.10179916]\n",
      "Accuracy score for s=8 is 0.8340807174887892\n",
      "Stage 1 | 5 Loss: [12299.65249033]\n",
      "Stage 2 | 5 Loss: [-466.28673682]\n",
      "Stage 3 | 5 Loss: [-639.22433767]\n",
      "Stage 4 | 5 Loss: [-683.27053575]\n",
      "Stage 5 | 5 Loss: [-686.65829728]\n",
      "Final Loss: [-688.93462317]\n",
      "Accuracy score for s=10 is 0.8071748878923767\n"
     ]
    }
   ],
   "source": [
    "print(\"Training the model with different hyper-parameters...\")\n",
    "for sigma in (1, 2, 3, 5, 8, 10):\n",
    "    Input = [('scale',StandardScaler()), ('model', mss.Svm(mss.RbfKernel(sigma)))]\n",
    "    pipe = Pipeline(Input)\n",
    "\n",
    "    np.random.shuffle(data_train)\n",
    "\n",
    "    X_train, X_test, y_train, y_test = train_test_split(data_train[:,0:-1], data_train[:,-1:], train_size=.75)\n",
    "\n",
    "    pipe.fit(X_train, y_train)\n",
    "\n",
    "    score = accuracy_score(y_test, pipe.predict(X_test))\n",
    "    print(\"Accuracy score for s={0} is {1}\".format(sigma, score))"
   ],
   "metadata": {
    "collapsed": false
   }
  },
  {
   "cell_type": "markdown",
   "source": [
    "Svm with RBF kernel with sigma = 5 gave the best result, i.e. 0.8565 accuracy on unseen data. Btw, it took too long to compute as of 8 dec 2022 (3 hours or so) on my M1 mac."
   ],
   "metadata": {
    "collapsed": false
   }
  },
  {
   "cell_type": "markdown",
   "source": [
    "### Final model"
   ],
   "metadata": {
    "collapsed": false
   }
  },
  {
   "cell_type": "code",
   "execution_count": 52,
   "outputs": [],
   "source": [
    "x_train = data_train[:,0:-1]\n",
    "y_train = data_train[:,-1:]"
   ],
   "metadata": {
    "collapsed": false
   }
  },
  {
   "cell_type": "code",
   "execution_count": 53,
   "outputs": [
    {
     "data": {
      "text/plain": "((891, 7), (891, 1))"
     },
     "execution_count": 53,
     "metadata": {},
     "output_type": "execute_result"
    }
   ],
   "source": [
    "x_train.shape, y_train.shape"
   ],
   "metadata": {
    "collapsed": false
   }
  },
  {
   "cell_type": "code",
   "execution_count": 54,
   "outputs": [],
   "source": [
    "scale = StandardScaler()\n",
    "model = mss.Svm(mss.RbfKernel(5))\n",
    "model.iterations_per_stage = 1200"
   ],
   "metadata": {
    "collapsed": false
   }
  },
  {
   "cell_type": "code",
   "execution_count": 55,
   "outputs": [],
   "source": [
    "Input = [('scale', scale), ('model', model)]\n",
    "pipe = Pipeline(Input)"
   ],
   "metadata": {
    "collapsed": false
   }
  },
  {
   "cell_type": "code",
   "execution_count": 59,
   "outputs": [
    {
     "name": "stdout",
     "output_type": "stream",
     "text": [
      "Stage 1 | 5 Loss: [28188.11970934]\n",
      "Stage 2 | 5 Loss: [-572.67926035]\n",
      "Stage 3 | 5 Loss: [-786.45743142]\n",
      "Stage 4 | 5 Loss: [-838.92113743]\n",
      "Stage 5 | 5 Loss: [-843.446947]\n",
      "Final Loss: [-847.47890801]\n"
     ]
    },
    {
     "data": {
      "text/plain": "Pipeline(steps=[('scale', StandardScaler()),\n                ('model', <ms_svm.Svm object at 0x17c77aa60>)])",
      "text/html": "<style>#sk-container-id-6 {color: black;background-color: white;}#sk-container-id-6 pre{padding: 0;}#sk-container-id-6 div.sk-toggleable {background-color: white;}#sk-container-id-6 label.sk-toggleable__label {cursor: pointer;display: block;width: 100%;margin-bottom: 0;padding: 0.3em;box-sizing: border-box;text-align: center;}#sk-container-id-6 label.sk-toggleable__label-arrow:before {content: \"▸\";float: left;margin-right: 0.25em;color: #696969;}#sk-container-id-6 label.sk-toggleable__label-arrow:hover:before {color: black;}#sk-container-id-6 div.sk-estimator:hover label.sk-toggleable__label-arrow:before {color: black;}#sk-container-id-6 div.sk-toggleable__content {max-height: 0;max-width: 0;overflow: hidden;text-align: left;background-color: #f0f8ff;}#sk-container-id-6 div.sk-toggleable__content pre {margin: 0.2em;color: black;border-radius: 0.25em;background-color: #f0f8ff;}#sk-container-id-6 input.sk-toggleable__control:checked~div.sk-toggleable__content {max-height: 200px;max-width: 100%;overflow: auto;}#sk-container-id-6 input.sk-toggleable__control:checked~label.sk-toggleable__label-arrow:before {content: \"▾\";}#sk-container-id-6 div.sk-estimator input.sk-toggleable__control:checked~label.sk-toggleable__label {background-color: #d4ebff;}#sk-container-id-6 div.sk-label input.sk-toggleable__control:checked~label.sk-toggleable__label {background-color: #d4ebff;}#sk-container-id-6 input.sk-hidden--visually {border: 0;clip: rect(1px 1px 1px 1px);clip: rect(1px, 1px, 1px, 1px);height: 1px;margin: -1px;overflow: hidden;padding: 0;position: absolute;width: 1px;}#sk-container-id-6 div.sk-estimator {font-family: monospace;background-color: #f0f8ff;border: 1px dotted black;border-radius: 0.25em;box-sizing: border-box;margin-bottom: 0.5em;}#sk-container-id-6 div.sk-estimator:hover {background-color: #d4ebff;}#sk-container-id-6 div.sk-parallel-item::after {content: \"\";width: 100%;border-bottom: 1px solid gray;flex-grow: 1;}#sk-container-id-6 div.sk-label:hover label.sk-toggleable__label {background-color: #d4ebff;}#sk-container-id-6 div.sk-serial::before {content: \"\";position: absolute;border-left: 1px solid gray;box-sizing: border-box;top: 0;bottom: 0;left: 50%;z-index: 0;}#sk-container-id-6 div.sk-serial {display: flex;flex-direction: column;align-items: center;background-color: white;padding-right: 0.2em;padding-left: 0.2em;position: relative;}#sk-container-id-6 div.sk-item {position: relative;z-index: 1;}#sk-container-id-6 div.sk-parallel {display: flex;align-items: stretch;justify-content: center;background-color: white;position: relative;}#sk-container-id-6 div.sk-item::before, #sk-container-id-6 div.sk-parallel-item::before {content: \"\";position: absolute;border-left: 1px solid gray;box-sizing: border-box;top: 0;bottom: 0;left: 50%;z-index: -1;}#sk-container-id-6 div.sk-parallel-item {display: flex;flex-direction: column;z-index: 1;position: relative;background-color: white;}#sk-container-id-6 div.sk-parallel-item:first-child::after {align-self: flex-end;width: 50%;}#sk-container-id-6 div.sk-parallel-item:last-child::after {align-self: flex-start;width: 50%;}#sk-container-id-6 div.sk-parallel-item:only-child::after {width: 0;}#sk-container-id-6 div.sk-dashed-wrapped {border: 1px dashed gray;margin: 0 0.4em 0.5em 0.4em;box-sizing: border-box;padding-bottom: 0.4em;background-color: white;}#sk-container-id-6 div.sk-label label {font-family: monospace;font-weight: bold;display: inline-block;line-height: 1.2em;}#sk-container-id-6 div.sk-label-container {text-align: center;}#sk-container-id-6 div.sk-container {/* jupyter's `normalize.less` sets `[hidden] { display: none; }` but bootstrap.min.css set `[hidden] { display: none !important; }` so we also need the `!important` here to be able to override the default hidden behavior on the sphinx rendered scikit-learn.org. See: https://github.com/scikit-learn/scikit-learn/issues/21755 */display: inline-block !important;position: relative;}#sk-container-id-6 div.sk-text-repr-fallback {display: none;}</style><div id=\"sk-container-id-6\" class=\"sk-top-container\"><div class=\"sk-text-repr-fallback\"><pre>Pipeline(steps=[(&#x27;scale&#x27;, StandardScaler()),\n                (&#x27;model&#x27;, &lt;ms_svm.Svm object at 0x17c77aa60&gt;)])</pre><b>In a Jupyter environment, please rerun this cell to show the HTML representation or trust the notebook. <br />On GitHub, the HTML representation is unable to render, please try loading this page with nbviewer.org.</b></div><div class=\"sk-container\" hidden><div class=\"sk-item sk-dashed-wrapped\"><div class=\"sk-label-container\"><div class=\"sk-label sk-toggleable\"><input class=\"sk-toggleable__control sk-hidden--visually\" id=\"sk-estimator-id-10\" type=\"checkbox\" ><label for=\"sk-estimator-id-10\" class=\"sk-toggleable__label sk-toggleable__label-arrow\">Pipeline</label><div class=\"sk-toggleable__content\"><pre>Pipeline(steps=[(&#x27;scale&#x27;, StandardScaler()),\n                (&#x27;model&#x27;, &lt;ms_svm.Svm object at 0x17c77aa60&gt;)])</pre></div></div></div><div class=\"sk-serial\"><div class=\"sk-item\"><div class=\"sk-estimator sk-toggleable\"><input class=\"sk-toggleable__control sk-hidden--visually\" id=\"sk-estimator-id-11\" type=\"checkbox\" ><label for=\"sk-estimator-id-11\" class=\"sk-toggleable__label sk-toggleable__label-arrow\">StandardScaler</label><div class=\"sk-toggleable__content\"><pre>StandardScaler()</pre></div></div></div><div class=\"sk-item\"><div class=\"sk-estimator sk-toggleable\"><input class=\"sk-toggleable__control sk-hidden--visually\" id=\"sk-estimator-id-12\" type=\"checkbox\" ><label for=\"sk-estimator-id-12\" class=\"sk-toggleable__label sk-toggleable__label-arrow\">Svm</label><div class=\"sk-toggleable__content\"><pre>&lt;ms_svm.Svm object at 0x17c77aa60&gt;</pre></div></div></div></div></div></div></div>"
     },
     "execution_count": 59,
     "metadata": {},
     "output_type": "execute_result"
    }
   ],
   "source": [
    "pipe.fit(x_train, y_train)"
   ],
   "metadata": {
    "collapsed": false
   }
  },
  {
   "cell_type": "code",
   "execution_count": 60,
   "outputs": [
    {
     "data": {
      "text/plain": "0.8316498316498316"
     },
     "execution_count": 60,
     "metadata": {},
     "output_type": "execute_result"
    }
   ],
   "source": [
    "accuracy_score(y_train, pipe.predict(x_train))"
   ],
   "metadata": {
    "collapsed": false
   }
  },
  {
   "cell_type": "markdown",
   "source": [
    "### Predicting"
   ],
   "metadata": {
    "collapsed": false
   }
  },
  {
   "cell_type": "code",
   "execution_count": 61,
   "outputs": [],
   "source": [
    "test_df = pd.read_csv('titanic/test.csv')"
   ],
   "metadata": {
    "collapsed": false
   }
  },
  {
   "cell_type": "code",
   "execution_count": 62,
   "outputs": [],
   "source": [
    "test_df.drop(['Name'], axis=1, inplace=True)\n",
    "test_df['Sex'].replace(['male', 'female'], [0, 1], inplace=True)\n",
    "test_df['Embarked'] = pd.factorize(test_df['Embarked'])[0]\n",
    "test_df.drop(['Cabin', 'Ticket'], axis=1, inplace=True)\n",
    "age_mean = test_df['Age'].mean()\n",
    "test_df['Age'].replace(np.nan, age_mean, inplace=True)"
   ],
   "metadata": {
    "collapsed": false
   }
  },
  {
   "cell_type": "code",
   "execution_count": 63,
   "outputs": [
    {
     "data": {
      "text/plain": "   PassengerId  Pclass  Sex   Age  SibSp  Parch     Fare  Embarked\n0          892       3    0  34.5      0      0   7.8292         0\n1          893       3    1  47.0      1      0   7.0000         1\n2          894       2    0  62.0      0      0   9.6875         0\n3          895       3    0  27.0      0      0   8.6625         1\n4          896       3    1  22.0      1      1  12.2875         1",
      "text/html": "<div>\n<style scoped>\n    .dataframe tbody tr th:only-of-type {\n        vertical-align: middle;\n    }\n\n    .dataframe tbody tr th {\n        vertical-align: top;\n    }\n\n    .dataframe thead th {\n        text-align: right;\n    }\n</style>\n<table border=\"1\" class=\"dataframe\">\n  <thead>\n    <tr style=\"text-align: right;\">\n      <th></th>\n      <th>PassengerId</th>\n      <th>Pclass</th>\n      <th>Sex</th>\n      <th>Age</th>\n      <th>SibSp</th>\n      <th>Parch</th>\n      <th>Fare</th>\n      <th>Embarked</th>\n    </tr>\n  </thead>\n  <tbody>\n    <tr>\n      <th>0</th>\n      <td>892</td>\n      <td>3</td>\n      <td>0</td>\n      <td>34.5</td>\n      <td>0</td>\n      <td>0</td>\n      <td>7.8292</td>\n      <td>0</td>\n    </tr>\n    <tr>\n      <th>1</th>\n      <td>893</td>\n      <td>3</td>\n      <td>1</td>\n      <td>47.0</td>\n      <td>1</td>\n      <td>0</td>\n      <td>7.0000</td>\n      <td>1</td>\n    </tr>\n    <tr>\n      <th>2</th>\n      <td>894</td>\n      <td>2</td>\n      <td>0</td>\n      <td>62.0</td>\n      <td>0</td>\n      <td>0</td>\n      <td>9.6875</td>\n      <td>0</td>\n    </tr>\n    <tr>\n      <th>3</th>\n      <td>895</td>\n      <td>3</td>\n      <td>0</td>\n      <td>27.0</td>\n      <td>0</td>\n      <td>0</td>\n      <td>8.6625</td>\n      <td>1</td>\n    </tr>\n    <tr>\n      <th>4</th>\n      <td>896</td>\n      <td>3</td>\n      <td>1</td>\n      <td>22.0</td>\n      <td>1</td>\n      <td>1</td>\n      <td>12.2875</td>\n      <td>1</td>\n    </tr>\n  </tbody>\n</table>\n</div>"
     },
     "execution_count": 63,
     "metadata": {},
     "output_type": "execute_result"
    }
   ],
   "source": [
    "test_df.head()"
   ],
   "metadata": {
    "collapsed": false
   }
  },
  {
   "cell_type": "code",
   "execution_count": 64,
   "outputs": [
    {
     "data": {
      "text/plain": "       PassengerId      Pclass         Sex         Age       SibSp  \\\ncount   418.000000  418.000000  418.000000  418.000000  418.000000   \nmean   1100.500000    2.265550    0.363636   30.272590    0.447368   \nstd     120.810458    0.841838    0.481622   12.634534    0.896760   \nmin     892.000000    1.000000    0.000000    0.170000    0.000000   \n25%     996.250000    1.000000    0.000000   23.000000    0.000000   \n50%    1100.500000    3.000000    0.000000   30.272590    0.000000   \n75%    1204.750000    3.000000    1.000000   35.750000    1.000000   \nmax    1309.000000    3.000000    1.000000   76.000000    8.000000   \n\n            Parch        Fare    Embarked  \ncount  418.000000  417.000000  418.000000  \nmean     0.392344   35.627188    1.133971  \nstd      0.981429   55.907576    0.580452  \nmin      0.000000    0.000000    0.000000  \n25%      0.000000    7.895800    1.000000  \n50%      0.000000   14.454200    1.000000  \n75%      0.000000   31.500000    1.000000  \nmax      9.000000  512.329200    2.000000  ",
      "text/html": "<div>\n<style scoped>\n    .dataframe tbody tr th:only-of-type {\n        vertical-align: middle;\n    }\n\n    .dataframe tbody tr th {\n        vertical-align: top;\n    }\n\n    .dataframe thead th {\n        text-align: right;\n    }\n</style>\n<table border=\"1\" class=\"dataframe\">\n  <thead>\n    <tr style=\"text-align: right;\">\n      <th></th>\n      <th>PassengerId</th>\n      <th>Pclass</th>\n      <th>Sex</th>\n      <th>Age</th>\n      <th>SibSp</th>\n      <th>Parch</th>\n      <th>Fare</th>\n      <th>Embarked</th>\n    </tr>\n  </thead>\n  <tbody>\n    <tr>\n      <th>count</th>\n      <td>418.000000</td>\n      <td>418.000000</td>\n      <td>418.000000</td>\n      <td>418.000000</td>\n      <td>418.000000</td>\n      <td>418.000000</td>\n      <td>417.000000</td>\n      <td>418.000000</td>\n    </tr>\n    <tr>\n      <th>mean</th>\n      <td>1100.500000</td>\n      <td>2.265550</td>\n      <td>0.363636</td>\n      <td>30.272590</td>\n      <td>0.447368</td>\n      <td>0.392344</td>\n      <td>35.627188</td>\n      <td>1.133971</td>\n    </tr>\n    <tr>\n      <th>std</th>\n      <td>120.810458</td>\n      <td>0.841838</td>\n      <td>0.481622</td>\n      <td>12.634534</td>\n      <td>0.896760</td>\n      <td>0.981429</td>\n      <td>55.907576</td>\n      <td>0.580452</td>\n    </tr>\n    <tr>\n      <th>min</th>\n      <td>892.000000</td>\n      <td>1.000000</td>\n      <td>0.000000</td>\n      <td>0.170000</td>\n      <td>0.000000</td>\n      <td>0.000000</td>\n      <td>0.000000</td>\n      <td>0.000000</td>\n    </tr>\n    <tr>\n      <th>25%</th>\n      <td>996.250000</td>\n      <td>1.000000</td>\n      <td>0.000000</td>\n      <td>23.000000</td>\n      <td>0.000000</td>\n      <td>0.000000</td>\n      <td>7.895800</td>\n      <td>1.000000</td>\n    </tr>\n    <tr>\n      <th>50%</th>\n      <td>1100.500000</td>\n      <td>3.000000</td>\n      <td>0.000000</td>\n      <td>30.272590</td>\n      <td>0.000000</td>\n      <td>0.000000</td>\n      <td>14.454200</td>\n      <td>1.000000</td>\n    </tr>\n    <tr>\n      <th>75%</th>\n      <td>1204.750000</td>\n      <td>3.000000</td>\n      <td>1.000000</td>\n      <td>35.750000</td>\n      <td>1.000000</td>\n      <td>0.000000</td>\n      <td>31.500000</td>\n      <td>1.000000</td>\n    </tr>\n    <tr>\n      <th>max</th>\n      <td>1309.000000</td>\n      <td>3.000000</td>\n      <td>1.000000</td>\n      <td>76.000000</td>\n      <td>8.000000</td>\n      <td>9.000000</td>\n      <td>512.329200</td>\n      <td>2.000000</td>\n    </tr>\n  </tbody>\n</table>\n</div>"
     },
     "execution_count": 64,
     "metadata": {},
     "output_type": "execute_result"
    }
   ],
   "source": [
    "test_df.describe()"
   ],
   "metadata": {
    "collapsed": false
   }
  },
  {
   "cell_type": "code",
   "execution_count": 65,
   "outputs": [],
   "source": [
    "fare_mean = test_df['Fare'].mean()\n",
    "test_df['Fare'].replace(np.nan, fare_mean, inplace=True)"
   ],
   "metadata": {
    "collapsed": false
   }
  },
  {
   "cell_type": "code",
   "execution_count": 66,
   "outputs": [
    {
     "data": {
      "text/plain": "       PassengerId      Pclass         Sex         Age       SibSp  \\\ncount   418.000000  418.000000  418.000000  418.000000  418.000000   \nmean   1100.500000    2.265550    0.363636   30.272590    0.447368   \nstd     120.810458    0.841838    0.481622   12.634534    0.896760   \nmin     892.000000    1.000000    0.000000    0.170000    0.000000   \n25%     996.250000    1.000000    0.000000   23.000000    0.000000   \n50%    1100.500000    3.000000    0.000000   30.272590    0.000000   \n75%    1204.750000    3.000000    1.000000   35.750000    1.000000   \nmax    1309.000000    3.000000    1.000000   76.000000    8.000000   \n\n            Parch        Fare    Embarked  \ncount  418.000000  418.000000  418.000000  \nmean     0.392344   35.627188    1.133971  \nstd      0.981429   55.840500    0.580452  \nmin      0.000000    0.000000    0.000000  \n25%      0.000000    7.895800    1.000000  \n50%      0.000000   14.454200    1.000000  \n75%      0.000000   31.500000    1.000000  \nmax      9.000000  512.329200    2.000000  ",
      "text/html": "<div>\n<style scoped>\n    .dataframe tbody tr th:only-of-type {\n        vertical-align: middle;\n    }\n\n    .dataframe tbody tr th {\n        vertical-align: top;\n    }\n\n    .dataframe thead th {\n        text-align: right;\n    }\n</style>\n<table border=\"1\" class=\"dataframe\">\n  <thead>\n    <tr style=\"text-align: right;\">\n      <th></th>\n      <th>PassengerId</th>\n      <th>Pclass</th>\n      <th>Sex</th>\n      <th>Age</th>\n      <th>SibSp</th>\n      <th>Parch</th>\n      <th>Fare</th>\n      <th>Embarked</th>\n    </tr>\n  </thead>\n  <tbody>\n    <tr>\n      <th>count</th>\n      <td>418.000000</td>\n      <td>418.000000</td>\n      <td>418.000000</td>\n      <td>418.000000</td>\n      <td>418.000000</td>\n      <td>418.000000</td>\n      <td>418.000000</td>\n      <td>418.000000</td>\n    </tr>\n    <tr>\n      <th>mean</th>\n      <td>1100.500000</td>\n      <td>2.265550</td>\n      <td>0.363636</td>\n      <td>30.272590</td>\n      <td>0.447368</td>\n      <td>0.392344</td>\n      <td>35.627188</td>\n      <td>1.133971</td>\n    </tr>\n    <tr>\n      <th>std</th>\n      <td>120.810458</td>\n      <td>0.841838</td>\n      <td>0.481622</td>\n      <td>12.634534</td>\n      <td>0.896760</td>\n      <td>0.981429</td>\n      <td>55.840500</td>\n      <td>0.580452</td>\n    </tr>\n    <tr>\n      <th>min</th>\n      <td>892.000000</td>\n      <td>1.000000</td>\n      <td>0.000000</td>\n      <td>0.170000</td>\n      <td>0.000000</td>\n      <td>0.000000</td>\n      <td>0.000000</td>\n      <td>0.000000</td>\n    </tr>\n    <tr>\n      <th>25%</th>\n      <td>996.250000</td>\n      <td>1.000000</td>\n      <td>0.000000</td>\n      <td>23.000000</td>\n      <td>0.000000</td>\n      <td>0.000000</td>\n      <td>7.895800</td>\n      <td>1.000000</td>\n    </tr>\n    <tr>\n      <th>50%</th>\n      <td>1100.500000</td>\n      <td>3.000000</td>\n      <td>0.000000</td>\n      <td>30.272590</td>\n      <td>0.000000</td>\n      <td>0.000000</td>\n      <td>14.454200</td>\n      <td>1.000000</td>\n    </tr>\n    <tr>\n      <th>75%</th>\n      <td>1204.750000</td>\n      <td>3.000000</td>\n      <td>1.000000</td>\n      <td>35.750000</td>\n      <td>1.000000</td>\n      <td>0.000000</td>\n      <td>31.500000</td>\n      <td>1.000000</td>\n    </tr>\n    <tr>\n      <th>max</th>\n      <td>1309.000000</td>\n      <td>3.000000</td>\n      <td>1.000000</td>\n      <td>76.000000</td>\n      <td>8.000000</td>\n      <td>9.000000</td>\n      <td>512.329200</td>\n      <td>2.000000</td>\n    </tr>\n  </tbody>\n</table>\n</div>"
     },
     "execution_count": 66,
     "metadata": {},
     "output_type": "execute_result"
    }
   ],
   "source": [
    "test_df.describe()"
   ],
   "metadata": {
    "collapsed": false
   }
  },
  {
   "cell_type": "code",
   "execution_count": 67,
   "outputs": [],
   "source": [
    "X = test_df.drop(['PassengerId'], axis=1).to_numpy()\n",
    "ids = test_df['PassengerId'].to_numpy()\n",
    "ids = ids.reshape(ids.shape + (1,))"
   ],
   "metadata": {
    "collapsed": false
   }
  },
  {
   "cell_type": "code",
   "execution_count": 79,
   "outputs": [],
   "source": [
    "y_predicted = pipe.predict(X)"
   ],
   "metadata": {
    "collapsed": false
   }
  },
  {
   "cell_type": "code",
   "execution_count": 81,
   "outputs": [
    {
     "data": {
      "text/plain": "array([[-1.],\n       [ 1.],\n       [-1.],\n       [-1.],\n       [ 1.],\n       [-1.],\n       [ 1.],\n       [-1.],\n       [ 1.],\n       [-1.],\n       [-1.],\n       [-1.],\n       [ 1.],\n       [-1.],\n       [ 1.],\n       [ 1.],\n       [-1.],\n       [-1.],\n       [ 1.],\n       [ 1.],\n       [-1.],\n       [ 1.],\n       [ 1.],\n       [-1.],\n       [ 1.],\n       [-1.],\n       [ 1.],\n       [-1.],\n       [-1.],\n       [-1.],\n       [-1.],\n       [-1.],\n       [ 1.],\n       [ 1.],\n       [-1.],\n       [-1.],\n       [ 1.],\n       [ 1.],\n       [-1.],\n       [-1.],\n       [-1.],\n       [-1.],\n       [-1.],\n       [ 1.],\n       [ 1.],\n       [-1.],\n       [-1.],\n       [-1.],\n       [ 1.],\n       [ 1.],\n       [-1.],\n       [-1.],\n       [ 1.],\n       [ 1.],\n       [-1.],\n       [-1.],\n       [-1.],\n       [-1.],\n       [-1.],\n       [ 1.],\n       [-1.],\n       [-1.],\n       [-1.],\n       [ 1.],\n       [-1.],\n       [ 1.],\n       [ 1.],\n       [-1.],\n       [-1.],\n       [-1.],\n       [ 1.],\n       [-1.],\n       [ 1.],\n       [-1.],\n       [ 1.],\n       [-1.],\n       [-1.],\n       [ 1.],\n       [-1.],\n       [ 1.],\n       [-1.],\n       [-1.],\n       [-1.],\n       [-1.],\n       [-1.],\n       [-1.],\n       [ 1.],\n       [ 1.],\n       [ 1.],\n       [ 1.],\n       [ 1.],\n       [-1.],\n       [ 1.],\n       [-1.],\n       [-1.],\n       [-1.],\n       [ 1.],\n       [-1.],\n       [ 1.],\n       [-1.],\n       [ 1.],\n       [-1.],\n       [-1.],\n       [-1.],\n       [ 1.],\n       [-1.],\n       [-1.],\n       [-1.],\n       [-1.],\n       [-1.],\n       [-1.],\n       [ 1.],\n       [ 1.],\n       [ 1.],\n       [ 1.],\n       [-1.],\n       [-1.],\n       [ 1.],\n       [-1.],\n       [ 1.],\n       [ 1.],\n       [-1.],\n       [ 1.],\n       [-1.],\n       [-1.],\n       [ 1.],\n       [-1.],\n       [-1.],\n       [-1.],\n       [-1.],\n       [-1.],\n       [-1.],\n       [-1.],\n       [-1.],\n       [-1.],\n       [-1.],\n       [-1.],\n       [-1.],\n       [ 1.],\n       [-1.],\n       [-1.],\n       [ 1.],\n       [-1.],\n       [-1.],\n       [-1.],\n       [-1.],\n       [-1.],\n       [-1.],\n       [-1.],\n       [-1.],\n       [ 1.],\n       [-1.],\n       [-1.],\n       [ 1.],\n       [-1.],\n       [-1.],\n       [ 1.],\n       [ 1.],\n       [-1.],\n       [ 1.],\n       [ 1.],\n       [-1.],\n       [ 1.],\n       [-1.],\n       [-1.],\n       [ 1.],\n       [-1.],\n       [-1.],\n       [ 1.],\n       [ 1.],\n       [-1.],\n       [-1.],\n       [-1.],\n       [-1.],\n       [-1.],\n       [ 1.],\n       [ 1.],\n       [-1.],\n       [ 1.],\n       [ 1.],\n       [-1.],\n       [-1.],\n       [ 1.],\n       [-1.],\n       [ 1.],\n       [-1.],\n       [ 1.],\n       [-1.],\n       [-1.],\n       [-1.],\n       [-1.],\n       [-1.],\n       [-1.],\n       [-1.],\n       [ 1.],\n       [-1.],\n       [ 1.],\n       [ 1.],\n       [-1.],\n       [ 1.],\n       [ 1.],\n       [ 1.],\n       [-1.],\n       [ 1.],\n       [-1.],\n       [-1.],\n       [ 1.],\n       [-1.],\n       [ 1.],\n       [-1.],\n       [-1.],\n       [-1.],\n       [-1.],\n       [ 1.],\n       [-1.],\n       [-1.],\n       [ 1.],\n       [-1.],\n       [ 1.],\n       [-1.],\n       [ 1.],\n       [-1.],\n       [ 1.],\n       [-1.],\n       [ 1.],\n       [ 1.],\n       [-1.],\n       [ 1.],\n       [-1.],\n       [-1.],\n       [-1.],\n       [ 1.],\n       [-1.],\n       [-1.],\n       [-1.],\n       [-1.],\n       [-1.],\n       [-1.],\n       [ 1.],\n       [ 1.],\n       [ 1.],\n       [ 1.],\n       [-1.],\n       [-1.],\n       [-1.],\n       [-1.],\n       [ 1.],\n       [-1.],\n       [ 1.],\n       [ 1.],\n       [ 1.],\n       [-1.],\n       [-1.],\n       [-1.],\n       [-1.],\n       [-1.],\n       [-1.],\n       [-1.],\n       [ 1.],\n       [-1.],\n       [-1.],\n       [-1.],\n       [ 1.],\n       [ 1.],\n       [-1.],\n       [-1.],\n       [-1.],\n       [-1.],\n       [ 1.],\n       [-1.],\n       [-1.],\n       [-1.],\n       [ 1.],\n       [ 1.],\n       [-1.],\n       [ 1.],\n       [-1.],\n       [-1.],\n       [-1.],\n       [-1.],\n       [ 1.],\n       [ 1.],\n       [ 1.],\n       [ 1.],\n       [ 1.],\n       [-1.],\n       [-1.],\n       [-1.],\n       [-1.],\n       [-1.],\n       [-1.],\n       [ 1.],\n       [-1.],\n       [-1.],\n       [-1.],\n       [-1.],\n       [ 1.],\n       [-1.],\n       [-1.],\n       [-1.],\n       [-1.],\n       [-1.],\n       [-1.],\n       [-1.],\n       [ 1.],\n       [ 1.],\n       [-1.],\n       [ 1.],\n       [-1.],\n       [ 1.],\n       [-1.],\n       [-1.],\n       [-1.],\n       [ 1.],\n       [ 1.],\n       [ 1.],\n       [-1.],\n       [-1.],\n       [-1.],\n       [-1.],\n       [-1.],\n       [-1.],\n       [-1.],\n       [-1.],\n       [ 1.],\n       [-1.],\n       [ 1.],\n       [-1.],\n       [-1.],\n       [-1.],\n       [ 1.],\n       [-1.],\n       [-1.],\n       [ 1.],\n       [-1.],\n       [-1.],\n       [-1.],\n       [-1.],\n       [-1.],\n       [-1.],\n       [-1.],\n       [-1.],\n       [-1.],\n       [ 1.],\n       [-1.],\n       [ 1.],\n       [-1.],\n       [ 1.],\n       [-1.],\n       [ 1.],\n       [ 1.],\n       [-1.],\n       [-1.],\n       [-1.],\n       [ 1.],\n       [-1.],\n       [ 1.],\n       [-1.],\n       [-1.],\n       [ 1.],\n       [-1.],\n       [ 1.],\n       [ 1.],\n       [-1.],\n       [ 1.],\n       [-1.],\n       [-1.],\n       [ 1.],\n       [ 1.],\n       [-1.],\n       [-1.],\n       [ 1.],\n       [-1.],\n       [-1.],\n       [ 1.],\n       [ 1.],\n       [ 1.],\n       [-1.],\n       [-1.],\n       [-1.],\n       [-1.],\n       [-1.],\n       [ 1.],\n       [ 1.],\n       [-1.],\n       [ 1.],\n       [-1.],\n       [-1.],\n       [-1.],\n       [-1.],\n       [-1.],\n       [ 1.],\n       [ 1.],\n       [-1.],\n       [-1.],\n       [ 1.],\n       [-1.],\n       [ 1.],\n       [-1.],\n       [-1.],\n       [ 1.],\n       [-1.],\n       [ 1.],\n       [ 1.],\n       [-1.],\n       [-1.],\n       [-1.],\n       [-1.],\n       [ 1.],\n       [ 1.],\n       [ 1.],\n       [ 1.],\n       [ 1.],\n       [-1.],\n       [ 1.],\n       [-1.],\n       [-1.],\n       [-1.]])"
     },
     "execution_count": 81,
     "metadata": {},
     "output_type": "execute_result"
    }
   ],
   "source": [
    "y_predicted"
   ],
   "metadata": {
    "collapsed": false
   }
  },
  {
   "cell_type": "markdown",
   "source": [
    "### Saving the predictions"
   ],
   "metadata": {
    "collapsed": false
   }
  },
  {
   "cell_type": "code",
   "execution_count": 85,
   "outputs": [],
   "source": [
    "predicted_data = np.append(ids, y_predicted, axis=1).astype(int)"
   ],
   "metadata": {
    "collapsed": false
   }
  },
  {
   "cell_type": "code",
   "execution_count": 86,
   "outputs": [
    {
     "data": {
      "text/plain": "array([[ 892,   -1],\n       [ 893,    1],\n       [ 894,   -1],\n       [ 895,   -1],\n       [ 896,    1],\n       [ 897,   -1],\n       [ 898,    1],\n       [ 899,   -1],\n       [ 900,    1],\n       [ 901,   -1],\n       [ 902,   -1],\n       [ 903,   -1],\n       [ 904,    1],\n       [ 905,   -1],\n       [ 906,    1],\n       [ 907,    1],\n       [ 908,   -1],\n       [ 909,   -1],\n       [ 910,    1],\n       [ 911,    1],\n       [ 912,   -1],\n       [ 913,    1],\n       [ 914,    1],\n       [ 915,   -1],\n       [ 916,    1],\n       [ 917,   -1],\n       [ 918,    1],\n       [ 919,   -1],\n       [ 920,   -1],\n       [ 921,   -1],\n       [ 922,   -1],\n       [ 923,   -1],\n       [ 924,    1],\n       [ 925,    1],\n       [ 926,   -1],\n       [ 927,   -1],\n       [ 928,    1],\n       [ 929,    1],\n       [ 930,   -1],\n       [ 931,   -1],\n       [ 932,   -1],\n       [ 933,   -1],\n       [ 934,   -1],\n       [ 935,    1],\n       [ 936,    1],\n       [ 937,   -1],\n       [ 938,   -1],\n       [ 939,   -1],\n       [ 940,    1],\n       [ 941,    1],\n       [ 942,   -1],\n       [ 943,   -1],\n       [ 944,    1],\n       [ 945,    1],\n       [ 946,   -1],\n       [ 947,   -1],\n       [ 948,   -1],\n       [ 949,   -1],\n       [ 950,   -1],\n       [ 951,    1],\n       [ 952,   -1],\n       [ 953,   -1],\n       [ 954,   -1],\n       [ 955,    1],\n       [ 956,   -1],\n       [ 957,    1],\n       [ 958,    1],\n       [ 959,   -1],\n       [ 960,   -1],\n       [ 961,   -1],\n       [ 962,    1],\n       [ 963,   -1],\n       [ 964,    1],\n       [ 965,   -1],\n       [ 966,    1],\n       [ 967,   -1],\n       [ 968,   -1],\n       [ 969,    1],\n       [ 970,   -1],\n       [ 971,    1],\n       [ 972,   -1],\n       [ 973,   -1],\n       [ 974,   -1],\n       [ 975,   -1],\n       [ 976,   -1],\n       [ 977,   -1],\n       [ 978,    1],\n       [ 979,    1],\n       [ 980,    1],\n       [ 981,    1],\n       [ 982,    1],\n       [ 983,   -1],\n       [ 984,    1],\n       [ 985,   -1],\n       [ 986,   -1],\n       [ 987,   -1],\n       [ 988,    1],\n       [ 989,   -1],\n       [ 990,    1],\n       [ 991,   -1],\n       [ 992,    1],\n       [ 993,   -1],\n       [ 994,   -1],\n       [ 995,   -1],\n       [ 996,    1],\n       [ 997,   -1],\n       [ 998,   -1],\n       [ 999,   -1],\n       [1000,   -1],\n       [1001,   -1],\n       [1002,   -1],\n       [1003,    1],\n       [1004,    1],\n       [1005,    1],\n       [1006,    1],\n       [1007,   -1],\n       [1008,   -1],\n       [1009,    1],\n       [1010,   -1],\n       [1011,    1],\n       [1012,    1],\n       [1013,   -1],\n       [1014,    1],\n       [1015,   -1],\n       [1016,   -1],\n       [1017,    1],\n       [1018,   -1],\n       [1019,   -1],\n       [1020,   -1],\n       [1021,   -1],\n       [1022,   -1],\n       [1023,   -1],\n       [1024,   -1],\n       [1025,   -1],\n       [1026,   -1],\n       [1027,   -1],\n       [1028,   -1],\n       [1029,   -1],\n       [1030,    1],\n       [1031,   -1],\n       [1032,   -1],\n       [1033,    1],\n       [1034,   -1],\n       [1035,   -1],\n       [1036,   -1],\n       [1037,   -1],\n       [1038,   -1],\n       [1039,   -1],\n       [1040,   -1],\n       [1041,   -1],\n       [1042,    1],\n       [1043,   -1],\n       [1044,   -1],\n       [1045,    1],\n       [1046,   -1],\n       [1047,   -1],\n       [1048,    1],\n       [1049,    1],\n       [1050,   -1],\n       [1051,    1],\n       [1052,    1],\n       [1053,   -1],\n       [1054,    1],\n       [1055,   -1],\n       [1056,   -1],\n       [1057,    1],\n       [1058,   -1],\n       [1059,   -1],\n       [1060,    1],\n       [1061,    1],\n       [1062,   -1],\n       [1063,   -1],\n       [1064,   -1],\n       [1065,   -1],\n       [1066,   -1],\n       [1067,    1],\n       [1068,    1],\n       [1069,   -1],\n       [1070,    1],\n       [1071,    1],\n       [1072,   -1],\n       [1073,   -1],\n       [1074,    1],\n       [1075,   -1],\n       [1076,    1],\n       [1077,   -1],\n       [1078,    1],\n       [1079,   -1],\n       [1080,   -1],\n       [1081,   -1],\n       [1082,   -1],\n       [1083,   -1],\n       [1084,   -1],\n       [1085,   -1],\n       [1086,    1],\n       [1087,   -1],\n       [1088,    1],\n       [1089,    1],\n       [1090,   -1],\n       [1091,    1],\n       [1092,    1],\n       [1093,    1],\n       [1094,   -1],\n       [1095,    1],\n       [1096,   -1],\n       [1097,   -1],\n       [1098,    1],\n       [1099,   -1],\n       [1100,    1],\n       [1101,   -1],\n       [1102,   -1],\n       [1103,   -1],\n       [1104,   -1],\n       [1105,    1],\n       [1106,   -1],\n       [1107,   -1],\n       [1108,    1],\n       [1109,   -1],\n       [1110,    1],\n       [1111,   -1],\n       [1112,    1],\n       [1113,   -1],\n       [1114,    1],\n       [1115,   -1],\n       [1116,    1],\n       [1117,    1],\n       [1118,   -1],\n       [1119,    1],\n       [1120,   -1],\n       [1121,   -1],\n       [1122,   -1],\n       [1123,    1],\n       [1124,   -1],\n       [1125,   -1],\n       [1126,   -1],\n       [1127,   -1],\n       [1128,   -1],\n       [1129,   -1],\n       [1130,    1],\n       [1131,    1],\n       [1132,    1],\n       [1133,    1],\n       [1134,   -1],\n       [1135,   -1],\n       [1136,   -1],\n       [1137,   -1],\n       [1138,    1],\n       [1139,   -1],\n       [1140,    1],\n       [1141,    1],\n       [1142,    1],\n       [1143,   -1],\n       [1144,   -1],\n       [1145,   -1],\n       [1146,   -1],\n       [1147,   -1],\n       [1148,   -1],\n       [1149,   -1],\n       [1150,    1],\n       [1151,   -1],\n       [1152,   -1],\n       [1153,   -1],\n       [1154,    1],\n       [1155,    1],\n       [1156,   -1],\n       [1157,   -1],\n       [1158,   -1],\n       [1159,   -1],\n       [1160,    1],\n       [1161,   -1],\n       [1162,   -1],\n       [1163,   -1],\n       [1164,    1],\n       [1165,    1],\n       [1166,   -1],\n       [1167,    1],\n       [1168,   -1],\n       [1169,   -1],\n       [1170,   -1],\n       [1171,   -1],\n       [1172,    1],\n       [1173,    1],\n       [1174,    1],\n       [1175,    1],\n       [1176,    1],\n       [1177,   -1],\n       [1178,   -1],\n       [1179,   -1],\n       [1180,   -1],\n       [1181,   -1],\n       [1182,   -1],\n       [1183,    1],\n       [1184,   -1],\n       [1185,   -1],\n       [1186,   -1],\n       [1187,   -1],\n       [1188,    1],\n       [1189,   -1],\n       [1190,   -1],\n       [1191,   -1],\n       [1192,   -1],\n       [1193,   -1],\n       [1194,   -1],\n       [1195,   -1],\n       [1196,    1],\n       [1197,    1],\n       [1198,   -1],\n       [1199,    1],\n       [1200,   -1],\n       [1201,    1],\n       [1202,   -1],\n       [1203,   -1],\n       [1204,   -1],\n       [1205,    1],\n       [1206,    1],\n       [1207,    1],\n       [1208,   -1],\n       [1209,   -1],\n       [1210,   -1],\n       [1211,   -1],\n       [1212,   -1],\n       [1213,   -1],\n       [1214,   -1],\n       [1215,   -1],\n       [1216,    1],\n       [1217,   -1],\n       [1218,    1],\n       [1219,   -1],\n       [1220,   -1],\n       [1221,   -1],\n       [1222,    1],\n       [1223,   -1],\n       [1224,   -1],\n       [1225,    1],\n       [1226,   -1],\n       [1227,   -1],\n       [1228,   -1],\n       [1229,   -1],\n       [1230,   -1],\n       [1231,   -1],\n       [1232,   -1],\n       [1233,   -1],\n       [1234,   -1],\n       [1235,    1],\n       [1236,   -1],\n       [1237,    1],\n       [1238,   -1],\n       [1239,    1],\n       [1240,   -1],\n       [1241,    1],\n       [1242,    1],\n       [1243,   -1],\n       [1244,   -1],\n       [1245,   -1],\n       [1246,    1],\n       [1247,   -1],\n       [1248,    1],\n       [1249,   -1],\n       [1250,   -1],\n       [1251,    1],\n       [1252,   -1],\n       [1253,    1],\n       [1254,    1],\n       [1255,   -1],\n       [1256,    1],\n       [1257,   -1],\n       [1258,   -1],\n       [1259,    1],\n       [1260,    1],\n       [1261,   -1],\n       [1262,   -1],\n       [1263,    1],\n       [1264,   -1],\n       [1265,   -1],\n       [1266,    1],\n       [1267,    1],\n       [1268,    1],\n       [1269,   -1],\n       [1270,   -1],\n       [1271,   -1],\n       [1272,   -1],\n       [1273,   -1],\n       [1274,    1],\n       [1275,    1],\n       [1276,   -1],\n       [1277,    1],\n       [1278,   -1],\n       [1279,   -1],\n       [1280,   -1],\n       [1281,   -1],\n       [1282,   -1],\n       [1283,    1],\n       [1284,    1],\n       [1285,   -1],\n       [1286,   -1],\n       [1287,    1],\n       [1288,   -1],\n       [1289,    1],\n       [1290,   -1],\n       [1291,   -1],\n       [1292,    1],\n       [1293,   -1],\n       [1294,    1],\n       [1295,    1],\n       [1296,   -1],\n       [1297,   -1],\n       [1298,   -1],\n       [1299,   -1],\n       [1300,    1],\n       [1301,    1],\n       [1302,    1],\n       [1303,    1],\n       [1304,    1],\n       [1305,   -1],\n       [1306,    1],\n       [1307,   -1],\n       [1308,   -1],\n       [1309,   -1]])"
     },
     "execution_count": 86,
     "metadata": {},
     "output_type": "execute_result"
    }
   ],
   "source": [
    "predicted_data"
   ],
   "metadata": {
    "collapsed": false
   }
  },
  {
   "cell_type": "code",
   "execution_count": 74,
   "outputs": [],
   "source": [
    "dataframe = pd.DataFrame(predicted_data)\n",
    "dataframe.columns = ['PassengerId', 'Survived']"
   ],
   "metadata": {
    "collapsed": false
   }
  },
  {
   "cell_type": "code",
   "execution_count": 87,
   "outputs": [],
   "source": [
    "dataframe['Survived'].replace(-1, 0, inplace=True)"
   ],
   "metadata": {
    "collapsed": false
   }
  },
  {
   "cell_type": "code",
   "execution_count": 90,
   "outputs": [
    {
     "data": {
      "text/plain": "   PassengerId  Survived\n0          892         0\n1          893         1\n2          894         0\n3          895         0\n4          896         1\n5          897         0\n6          898         1\n7          899         0\n8          900         1\n9          901         0",
      "text/html": "<div>\n<style scoped>\n    .dataframe tbody tr th:only-of-type {\n        vertical-align: middle;\n    }\n\n    .dataframe tbody tr th {\n        vertical-align: top;\n    }\n\n    .dataframe thead th {\n        text-align: right;\n    }\n</style>\n<table border=\"1\" class=\"dataframe\">\n  <thead>\n    <tr style=\"text-align: right;\">\n      <th></th>\n      <th>PassengerId</th>\n      <th>Survived</th>\n    </tr>\n  </thead>\n  <tbody>\n    <tr>\n      <th>0</th>\n      <td>892</td>\n      <td>0</td>\n    </tr>\n    <tr>\n      <th>1</th>\n      <td>893</td>\n      <td>1</td>\n    </tr>\n    <tr>\n      <th>2</th>\n      <td>894</td>\n      <td>0</td>\n    </tr>\n    <tr>\n      <th>3</th>\n      <td>895</td>\n      <td>0</td>\n    </tr>\n    <tr>\n      <th>4</th>\n      <td>896</td>\n      <td>1</td>\n    </tr>\n    <tr>\n      <th>5</th>\n      <td>897</td>\n      <td>0</td>\n    </tr>\n    <tr>\n      <th>6</th>\n      <td>898</td>\n      <td>1</td>\n    </tr>\n    <tr>\n      <th>7</th>\n      <td>899</td>\n      <td>0</td>\n    </tr>\n    <tr>\n      <th>8</th>\n      <td>900</td>\n      <td>1</td>\n    </tr>\n    <tr>\n      <th>9</th>\n      <td>901</td>\n      <td>0</td>\n    </tr>\n  </tbody>\n</table>\n</div>"
     },
     "execution_count": 90,
     "metadata": {},
     "output_type": "execute_result"
    }
   ],
   "source": [
    "dataframe.head(10)"
   ],
   "metadata": {
    "collapsed": false
   }
  },
  {
   "cell_type": "code",
   "execution_count": 89,
   "outputs": [],
   "source": [
    "dataframe.to_csv(\"titanic/predictions.csv\", index=False)"
   ],
   "metadata": {
    "collapsed": false
   }
  },
  {
   "cell_type": "code",
   "execution_count": null,
   "outputs": [],
   "source": [],
   "metadata": {
    "collapsed": false
   }
  }
 ],
 "metadata": {
  "kernelspec": {
   "display_name": "Python 3",
   "language": "python",
   "name": "python3"
  },
  "language_info": {
   "codemirror_mode": {
    "name": "ipython",
    "version": 2
   },
   "file_extension": ".py",
   "mimetype": "text/x-python",
   "name": "python",
   "nbconvert_exporter": "python",
   "pygments_lexer": "ipython2",
   "version": "2.7.6"
  }
 },
 "nbformat": 4,
 "nbformat_minor": 0
}
